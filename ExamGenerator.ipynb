{
 "cells": [
  {
   "cell_type": "code",
   "execution_count": 12,
   "id": "e8ccc12f",
   "metadata": {},
   "outputs": [],
   "source": [
    "import os\n",
    "import openai"
   ]
  },
  {
   "cell_type": "code",
   "execution_count": 14,
   "id": "ac9cfc10",
   "metadata": {},
   "outputs": [],
   "source": [
    "openai.api_key = \"secret\""
   ]
  },
  {
   "cell_type": "code",
   "execution_count": 30,
   "id": "82bff8c7",
   "metadata": {},
   "outputs": [],
   "source": [
    "def create_test_prompt(topic, num_questions, num_possible_answers):\n",
    "    prompt = f\"Create a multiple choice quiz on the topic of {topic} consisting of {num_questions} questions. \"\\\n",
    "                +f\"Each question should have {num_possible_answers} options. \"\\\n",
    "                +f\"Also include the correct answer for each question using the starting string 'Correct Answer: ' \"\n",
    "    return prompt"
   ]
  },
  {
   "cell_type": "code",
   "execution_count": 33,
   "id": "3c53de4e",
   "metadata": {},
   "outputs": [],
   "source": [
    "response = openai.Completion.create(engine='text-davinci-003',\n",
    "                                   prompt=create_test_prompt(\"Python Django\", 4, 4),\n",
    "                                   max_tokens = 256,\n",
    "                                   temperature = 0.7) # "
   ]
  },
  {
   "cell_type": "code",
   "execution_count": 35,
   "id": "f590c875",
   "metadata": {},
   "outputs": [
    {
     "name": "stdout",
     "output_type": "stream",
     "text": [
      "\n",
      "\n",
      "Q1. What is Django?\n",
      "A. A web development framework\n",
      "B. A content management system\n",
      "C. A web hosting platform\n",
      "D. An operating system\n",
      "Correct Answer: A. A web development framework\n",
      "\n",
      "Q2. What is the primary language used in Django?\n",
      "A. HTML\n",
      "B. JavaScript\n",
      "C. Python\n",
      "D. CSS\n",
      "Correct Answer: C. Python\n",
      "\n",
      "Q3. What is the purpose of using a Model in Django?\n",
      "A. To store website content\n",
      "B. To define the structure of a database\n",
      "C. To store data in a database\n",
      "D. To define how a page should look\n",
      "Correct Answer: B. To define the structure of a database\n",
      "\n",
      "Q4. What type of pattern does Django follow?\n",
      "A. Model-View Pattern\n",
      "B. Model-Template Pattern\n",
      "C. Model-View-Controller Pattern\n",
      "D. Model-View-Presenter Pattern\n",
      "Correct Answer: C. Model-View-Controller Pattern\n"
     ]
    }
   ],
   "source": [
    "# print(response['choices'][0]['text'])"
   ]
  },
  {
   "cell_type": "code",
   "execution_count": 42,
   "id": "60f2a65d",
   "metadata": {},
   "outputs": [],
   "source": [
    "def create_student_view(test, num_questions):\n",
    "    student_view = {1:''}\n",
    "    question_number = 1\n",
    "    for line in test.split(\"\\n\"):\n",
    "        if not line.startswith(\"Correct Answer:\"):\n",
    "            student_view[question_number] += line +'\\n'\n",
    "        else:\n",
    "            if question_number < num_questions:\n",
    "                question_number += 1\n",
    "                student_view[question_number] = ''\n",
    "    return student_view"
   ]
  },
  {
   "cell_type": "code",
   "execution_count": 45,
   "id": "dc7aba8e",
   "metadata": {},
   "outputs": [],
   "source": [
    "result = create_student_view(response['choices'][0]['text'], 4)"
   ]
  },
  {
   "cell_type": "code",
   "execution_count": 47,
   "id": "7be88664",
   "metadata": {},
   "outputs": [
    {
     "name": "stdout",
     "output_type": "stream",
     "text": [
      "\n",
      "\n",
      "Q1. What is Django?\n",
      "A. A web development framework\n",
      "B. A content management system\n",
      "C. A web hosting platform\n",
      "D. An operating system\n",
      "\n",
      "\n",
      "Q2. What is the primary language used in Django?\n",
      "A. HTML\n",
      "B. JavaScript\n",
      "C. Python\n",
      "D. CSS\n",
      "\n",
      "\n",
      "Q3. What is the purpose of using a Model in Django?\n",
      "A. To store website content\n",
      "B. To define the structure of a database\n",
      "C. To store data in a database\n",
      "D. To define how a page should look\n",
      "\n",
      "\n",
      "Q4. What type of pattern does Django follow?\n",
      "A. Model-View Pattern\n",
      "B. Model-Template Pattern\n",
      "C. Model-View-Controller Pattern\n",
      "D. Model-View-Presenter Pattern\n",
      "\n"
     ]
    }
   ],
   "source": [
    "for key in result:\n",
    "    print(result[key])"
   ]
  },
  {
   "cell_type": "code",
   "execution_count": 53,
   "id": "7f73d4a1",
   "metadata": {},
   "outputs": [],
   "source": [
    "def extract_answer(test, num_questions):\n",
    "    answers = {1:''}\n",
    "    question_number = 1\n",
    "    for line in test.split(\"\\n\"):\n",
    "        if line.startswith(\"Correct Answer:\"):\n",
    "            answers[question_number] += line +'\\n'\n",
    "\n",
    "            if question_number < num_questions:\n",
    "                question_number += 1\n",
    "                answers[question_number] = ''\n",
    "    return answers"
   ]
  },
  {
   "cell_type": "code",
   "execution_count": 55,
   "id": "1a3a8116",
   "metadata": {},
   "outputs": [
    {
     "data": {
      "text/plain": [
       "{1: 'Correct Answer: A. A web development framework\\n',\n",
       " 2: 'Correct Answer: C. Python\\n',\n",
       " 3: 'Correct Answer: B. To define the structure of a database\\n',\n",
       " 4: 'Correct Answer: C. Model-View-Controller Pattern\\n'}"
      ]
     },
     "execution_count": 55,
     "metadata": {},
     "output_type": "execute_result"
    }
   ],
   "source": [
    "extract_answer(response['choices'][0]['text'], 4)"
   ]
  },
  {
   "cell_type": "code",
   "execution_count": 58,
   "id": "03ed1d74",
   "metadata": {},
   "outputs": [],
   "source": [
    "student_view = create_student_view(response['choices'][0]['text'], 4)"
   ]
  },
  {
   "cell_type": "code",
   "execution_count": 60,
   "id": "49076a10",
   "metadata": {},
   "outputs": [],
   "source": [
    "answers = extract_answer(response['choices'][0]['text'], 4)"
   ]
  },
  {
   "cell_type": "code",
   "execution_count": 62,
   "id": "0e3565e6",
   "metadata": {},
   "outputs": [],
   "source": [
    "# Take the exam\n",
    "def take_exam(student_view):\n",
    "    student_answers = {}\n",
    "    for question, question_view in student_view.items():\n",
    "        print(question_view)\n",
    "        answer = input(\"Enter your answer: \")\n",
    "        student_answers[question] = answer\n",
    "    return student_answers"
   ]
  },
  {
   "cell_type": "code",
   "execution_count": 63,
   "id": "e07d4ebb",
   "metadata": {},
   "outputs": [],
   "source": [
    "# student_view.items()"
   ]
  },
  {
   "cell_type": "code",
   "execution_count": 66,
   "id": "160dc545",
   "metadata": {},
   "outputs": [
    {
     "name": "stdout",
     "output_type": "stream",
     "text": [
      "\n",
      "\n",
      "Q1. What is Django?\n",
      "A. A web development framework\n",
      "B. A content management system\n",
      "C. A web hosting platform\n",
      "D. An operating system\n",
      "\n",
      "Enter your answer: A\n",
      "\n",
      "Q2. What is the primary language used in Django?\n",
      "A. HTML\n",
      "B. JavaScript\n",
      "C. Python\n",
      "D. CSS\n",
      "\n",
      "Enter your answer: D\n",
      "\n",
      "Q3. What is the purpose of using a Model in Django?\n",
      "A. To store website content\n",
      "B. To define the structure of a database\n",
      "C. To store data in a database\n",
      "D. To define how a page should look\n",
      "\n",
      "Enter your answer: A\n",
      "\n",
      "Q4. What type of pattern does Django follow?\n",
      "A. Model-View Pattern\n",
      "B. Model-Template Pattern\n",
      "C. Model-View-Controller Pattern\n",
      "D. Model-View-Presenter Pattern\n",
      "\n",
      "Enter your answer: B\n"
     ]
    }
   ],
   "source": [
    "student_answers = take_exam(student_view)"
   ]
  },
  {
   "cell_type": "code",
   "execution_count": 70,
   "id": "e672b2ef",
   "metadata": {},
   "outputs": [
    {
     "data": {
      "text/plain": [
       "{1: 'A', 2: 'D', 3: 'A', 4: 'B'}"
      ]
     },
     "execution_count": 70,
     "metadata": {},
     "output_type": "execute_result"
    }
   ],
   "source": [
    "student_answers"
   ]
  },
  {
   "cell_type": "code",
   "execution_count": 74,
   "id": "f433aab3",
   "metadata": {},
   "outputs": [
    {
     "data": {
      "text/plain": [
       "'C'"
      ]
     },
     "execution_count": 74,
     "metadata": {},
     "output_type": "execute_result"
    }
   ],
   "source": [
    "answers[2][16]"
   ]
  },
  {
   "cell_type": "code",
   "execution_count": 77,
   "id": "7ceb7d15",
   "metadata": {},
   "outputs": [],
   "source": [
    "def grade(correct_answer_dict, student_answers):\n",
    "    correct_answers = 0\n",
    "    for question, answer in student_answers.items():\n",
    "        if answer.upper() == correct_answer_dict[question][16]:\n",
    "            correct_answers += 1\n",
    "    grade = 100*correct_answers / len(answers)\n",
    "    \n",
    "    if grade < 60:\n",
    "        passed = \"NO PASS\"\n",
    "    else:\n",
    "        passed = \"PASS!\"\n",
    "        \n",
    "    return f\"{correct_answers}/{len(answers)} correct! You got {grade} grade, {passed}\""
   ]
  },
  {
   "cell_type": "code",
   "execution_count": 78,
   "id": "e7113f10",
   "metadata": {},
   "outputs": [
    {
     "data": {
      "text/plain": [
       "'1/4 correct! You got 25.0 grade, NO PASS'"
      ]
     },
     "execution_count": 78,
     "metadata": {},
     "output_type": "execute_result"
    }
   ],
   "source": [
    "grade(answers,student_answers)"
   ]
  }
 ],
 "metadata": {
  "kernelspec": {
   "display_name": "Python 3 (ipykernel)",
   "language": "python",
   "name": "python3"
  },
  "language_info": {
   "codemirror_mode": {
    "name": "ipython",
    "version": 3
   },
   "file_extension": ".py",
   "mimetype": "text/x-python",
   "name": "python",
   "nbconvert_exporter": "python",
   "pygments_lexer": "ipython3",
   "version": "3.11.3"
  }
 },
 "nbformat": 4,
 "nbformat_minor": 5
}
